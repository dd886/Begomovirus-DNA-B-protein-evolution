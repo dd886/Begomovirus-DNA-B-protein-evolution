{
 "cells": [
  {
   "cell_type": "code",
   "execution_count": null,
   "metadata": {},
   "outputs": [],
   "source": [
    "from Bio import SeqIO, AlignIO\n",
    "import math\n",
    "import pandas as pd\n",
    "import trace\n",
    "import glob\n",
    "import numpy as np\n",
    "AAs = ['A','C','D','E','F','G','H','I','K','L','M','N','P','Q','R','S','T','V','W','Y']"
   ]
  },
  {
   "cell_type": "code",
   "execution_count": null,
   "metadata": {},
   "outputs": [],
   "source": [
    "#take in a string of letters for a given site\n",
    "#return Shannon information for that site\n",
    "\n",
    "def shannon_info(site, AAs=AAs):\n",
    "    \n",
    "    temp_info = 0\n",
    "    \n",
    "    for aa in AAs:\n",
    "        \n",
    "        if aa in site:\n",
    "            \n",
    "            temp_info += site.count(aa)/len(site) * math.log2(site.count(aa)/len(site))\n",
    "        \n",
    "    return abs(temp_info)"
   ]
  },
  {
   "cell_type": "code",
   "execution_count": null,
   "metadata": {},
   "outputs": [],
   "source": [
    "#Von Neumann Entropy (density matrix) - used for Shannon Entropy calculations\n",
    "\n",
    "def vn_entropy(column,sub_matrix,matrix_label):\n",
    "\n",
    "    column_diag = np.zeros((sub_matrix.shape[0],sub_matrix.shape[0]))\n",
    "    \n",
    "    for aa in matrix_label:\n",
    "        column_diag[matrix_label.index(aa),matrix_label.index(aa)] = column.count(aa) / len(column)\n",
    "\n",
    "    omega = column_diag * sub_matrix \n",
    "    \n",
    "    entropy = - omega * vlog_20(omega)\n",
    "    \n",
    "    return entropy.trace()"
   ]
  },
  {
   "cell_type": "code",
   "execution_count": null,
   "metadata": {},
   "outputs": [],
   "source": [
    "LG_aa_order = ['A','R','N','D','C','Q','E','G','H','I','L','K','M','F','P','S','T','W','Y','V']\n",
    "B50_aa_order = ['A','R','N','D','C','Q','E','G','H','I','L','K','M','F','P','S','T','W','Y','V','B','J','Z','X','*']\n",
    "\n",
    "#choose substitution matrix:\n",
    "#original LG\n",
    "LG = pd.read_csv(\"LG.csv\",header=0, index_col=0)\n",
    "#LG with bottom half (exclusive of the diagnal) proportions sum to 1\n",
    "#Don't use this, only inflates values\n",
    "#substitution_matrix = pd.read_csv(\"./protein_diversity/LG-1.csv\",header=0, index_col=0)\n",
    "\n",
    "B50 = pd.read_table(\"BLOSUM50.tab\",header=None,index_col=None,names=B50_aa_order)\n",
    "B50.set_index(pd.Series(B50_aa_order),inplace=True)"
   ]
  },
  {
   "cell_type": "code",
   "execution_count": null,
   "metadata": {},
   "outputs": [],
   "source": [
    "max_freq = np.array([[0.05,0,0,0,0,0,0,0,0,0,0,0,0,0,0,0,0,0,0,0,0,0,0,0,0],\n",
    "                     [0,0.05,0,0,0,0,0,0,0,0,0,0,0,0,0,0,0,0,0,0,0,0,0,0,0],\n",
    "                     [0,0,0.05,0,0,0,0,0,0,0,0,0,0,0,0,0,0,0,0,0,0,0,0,0,0],\n",
    "                     [0,0,0,0.05,0,0,0,0,0,0,0,0,0,0,0,0,0,0,0,0,0,0,0,0,0],\n",
    "                     [0,0,0,0,0.05,0,0,0,0,0,0,0,0,0,0,0,0,0,0,0,0,0,0,0,0],\n",
    "                     [0,0,0,0,0,0.05,0,0,0,0,0,0,0,0,0,0,0,0,0,0,0,0,0,0,0],\n",
    "                     [0,0,0,0,0,0,0.05,0,0,0,0,0,0,0,0,0,0,0,0,0,0,0,0,0,0],\n",
    "                     [0,0,0,0,0,0,0,0.05,0,0,0,0,0,0,0,0,0,0,0,0,0,0,0,0,0],\n",
    "                     [0,0,0,0,0,0,0,0,0.05,0,0,0,0,0,0,0,0,0,0,0,0,0,0,0,0],\n",
    "                     [0,0,0,0,0,0,0,0,0,0.05,0,0,0,0,0,0,0,0,0,0,0,0,0,0,0],\n",
    "                     [0,0,0,0,0,0,0,0,0,0,0.05,0,0,0,0,0,0,0,0,0,0,0,0,0,0],\n",
    "                     [0,0,0,0,0,0,0,0,0,0,0,0.05,0,0,0,0,0,0,0,0,0,0,0,0,0],\n",
    "                     [0,0,0,0,0,0,0,0,0,0,0,0,0.05,0,0,0,0,0,0,0,0,0,0,0,0],\n",
    "                     [0,0,0,0,0,0,0,0,0,0,0,0,0,0.05,0,0,0,0,0,0,0,0,0,0,0],\n",
    "                     [0,0,0,0,0,0,0,0,0,0,0,0,0,0,0.05,0,0,0,0,0,0,0,0,0,0],\n",
    "                     [0,0,0,0,0,0,0,0,0,0,0,0,0,0,0,0.05,0,0,0,0,0,0,0,0,0],\n",
    "                     [0,0,0,0,0,0,0,0,0,0,0,0,0,0,0,0,0.05,0,0,0,0,0,0,0,0],\n",
    "                     [0,0,0,0,0,0,0,0,0,0,0,0,0,0,0,0,0,0.05,0,0,0,0,0,0,0],\n",
    "                     [0,0,0,0,0,0,0,0,0,0,0,0,0,0,0,0,0,0,0.05,0,0,0,0,0,0],\n",
    "                     [0,0,0,0,0,0,0,0,0,0,0,0,0,0,0,0,0,0,0,0.05,0,0,0,0,0],\n",
    "                     [0,0,0,0,0,0,0,0,0,0,0,0,0,0,0,0,0,0,0,0,0,0,0,0,0],\n",
    "                     [0,0,0,0,0,0,0,0,0,0,0,0,0,0,0,0,0,0,0,0,0,0,0,0,0],\n",
    "                     [0,0,0,0,0,0,0,0,0,0,0,0,0,0,0,0,0,0,0,0,0,0,0,0,0],\n",
    "                     [0,0,0,0,0,0,0,0,0,0,0,0,0,0,0,0,0,0,0,0,0,0,0,0,0],\n",
    "                     [0,0,0,0,0,0,0,0,0,0,0,0,0,0,0,0,0,0,0,0,0,0,0,0,0]])"
   ]
  },
  {
   "cell_type": "code",
   "execution_count": null,
   "metadata": {},
   "outputs": [],
   "source": [
    "#VNE value at Shannon Entropy Max: all amino acids at frequency 0.05\n",
    "omega = B50 * max_freq\n",
    "ent = -(omega * vlog_20(omega))\n",
    "\n",
    "#Pairwise similarity maximum for two allele locus (C,E)\n",
    "(1/LG.loc['C','E']) * 0.5"
   ]
  },
  {
   "cell_type": "code",
   "execution_count": null,
   "metadata": {},
   "outputs": [],
   "source": [
    "#VNE maximum at two allele locus (C,W)\n",
    "max_vne = np.array([[0.090909,0],[0,0.07878788]])\n",
    "omega = max_vne * np.array([[0.5,0],[0,0.5]])\n",
    "ent = -(omega * vlog_20(omega))"
   ]
  },
  {
   "cell_type": "code",
   "execution_count": null,
   "metadata": {},
   "outputs": [],
   "source": [
    "data_list = glob.glob(\"./filename.fasta\")\n",
    "\n",
    "#if alignment needed: AlignIO.read(\"./HIV-1_rev_mafft.fas\",'fasta')"
   ]
  },
  {
   "cell_type": "code",
   "execution_count": null,
   "metadata": {},
   "outputs": [],
   "source": [
    "#calculate the diversity measures\n",
    "for currentfile in data_list:\n",
    "    data = AlignIO.read(currentfile,'fasta')\n",
    "    print(\"{} measures:\".format(currentfile))    \n",
    "\n",
    "\n",
    "    num_samples = len(data)\n",
    "    ungapped_sites = 0\n",
    "\n",
    "    shannon = 0\n",
    "        \n",
    "    #get diversity meaasure(s) for ungapped sites\n",
    "    for i in range(len(data[0,:])):\n",
    "    \n",
    "    \n",
    "        column = data[:,i]\n",
    "        if '-' not in column:\n",
    "        \n",
    "            shannon += shannon_info(column)\n",
    "           \n",
    "\n",
    "    print(\"shannon MP OW: {:.4}\".format(shannon/(i+1)))"
   ]
  }
 ],
 "metadata": {
  "kernelspec": {
   "display_name": "AADiversity",
   "language": "python",
   "name": "aadiversity"
  },
  "language_info": {
   "codemirror_mode": {
    "name": "ipython",
    "version": 3
   },
   "file_extension": ".py",
   "mimetype": "text/x-python",
   "name": "python",
   "nbconvert_exporter": "python",
   "pygments_lexer": "ipython3",
   "version": "3.9.7"
  }
 },
 "nbformat": 4,
 "nbformat_minor": 2
}
